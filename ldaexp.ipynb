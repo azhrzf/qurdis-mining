{
 "cells": [
  {
   "cell_type": "code",
   "execution_count": 1,
   "metadata": {},
   "outputs": [
    {
     "name": "stdout",
     "output_type": "stream",
     "text": [
      "[(0,\n",
      "  '0.099*\"learning\" + 0.069*\"is\" + 0.042*\"involves\" + 0.042*\"science\" + '\n",
      "  '0.042*\"analyzing\" + 0.042*\"and\" + 0.042*\"interpreting\" + 0.042*\"sets\" + '\n",
      "  '0.042*\"data\" + 0.042*\"complex\"'),\n",
      " (1,\n",
      "  '0.084*\"is\" + 0.081*\"language\" + 0.050*\"a\" + 0.050*\"of\" + 0.049*\"processing\" '\n",
      "  '+ 0.049*\"subfield\" + 0.049*\"artificial\" + 0.049*\"Natural\" + '\n",
      "  '0.049*\"intelligence\" + 0.049*\"popular\"')]\n",
      "Topik Dokumen Baru:\n",
      "[(0, 0.7455143), (1, 0.25448576)]\n"
     ]
    }
   ],
   "source": [
    "# Instal library Gensim\n",
    "# pip install gensim\n",
    "\n",
    "# Import library\n",
    "import numpy as np\n",
    "import gensim\n",
    "from gensim import corpora\n",
    "from pprint import pprint\n",
    "\n",
    "# Contoh dokumen\n",
    "documents = [\n",
    "    \"Machine learning is fascinating\",\n",
    "    \"Python is the most popular programming language\",\n",
    "    \"Natural language processing is a subfield of artificial intelligence\",\n",
    "    \"Data science involves analyzing and interpreting complex data sets\",\n",
    "    \"Deep learning is a subset of machine learning\"\n",
    "]\n",
    "\n",
    "# Tokenisasi teks\n",
    "tokenized_documents = [doc.split() for doc in documents]\n",
    "\n",
    "# Membangun kamus (dictionary) dari token\n",
    "dictionary = corpora.Dictionary(tokenized_documents)\n",
    "\n",
    "# Membuat korpus (bag-of-words representation)\n",
    "corpus = [dictionary.doc2bow(doc) for doc in tokenized_documents]\n",
    "\n",
    "# Melatih model LDA\n",
    "lda_model = gensim.models.LdaModel(corpus, num_topics=2, id2word=dictionary, passes=15)\n",
    "\n",
    "# Menampilkan topik dan kata-kata kunci\n",
    "pprint(lda_model.print_topics())\n",
    "\n",
    "# Menggunakan model LDA untuk mengklasifikasikan dokumen baru\n",
    "new_document = \"Artificial intelligence and machine learning are revolutionizing industries\"\n",
    "new_doc_bow = dictionary.doc2bow(new_document.split())\n",
    "topics = lda_model[new_doc_bow]\n",
    "\n",
    "print(\"Topik Dokumen Baru:\")\n",
    "pprint(topics)\n"
   ]
  }
 ],
 "metadata": {
  "kernelspec": {
   "display_name": "Python 3",
   "language": "python",
   "name": "python3"
  },
  "language_info": {
   "codemirror_mode": {
    "name": "ipython",
    "version": 3
   },
   "file_extension": ".py",
   "mimetype": "text/x-python",
   "name": "python",
   "nbconvert_exporter": "python",
   "pygments_lexer": "ipython3",
   "version": "3.11.3"
  },
  "orig_nbformat": 4
 },
 "nbformat": 4,
 "nbformat_minor": 2
}
